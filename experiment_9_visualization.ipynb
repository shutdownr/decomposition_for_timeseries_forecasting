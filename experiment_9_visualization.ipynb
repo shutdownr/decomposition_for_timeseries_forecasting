{
 "cells": [
  {
   "cell_type": "code",
   "execution_count": 121,
   "metadata": {},
   "outputs": [
    {
     "name": "stdout",
     "output_type": "stream",
     "text": [
      "The autoreload extension is already loaded. To reload it, use:\n",
      "  %reload_ext autoreload\n"
     ]
    }
   ],
   "source": [
    "%load_ext autoreload\n",
    "%autoreload 2\n",
    "\n",
    "import os\n",
    "import pickle\n",
    "\n",
    "from config import Config\n",
    "\n",
    "import matplotlib.pyplot as plt\n",
    "import numpy as np\n",
    "from utility import format_decomp_name, format_dataset_name\n",
    "\n",
    "plt.rcParams[\"text.usetex\"] = True\n",
    "plt.rcParams[\"font.family\"] = \"Times New Roman\""
   ]
  },
  {
   "cell_type": "code",
   "execution_count": 122,
   "metadata": {},
   "outputs": [],
   "source": [
    "RESULTS_FOLDER = \"results/experiment_9/\"\n",
    "c = Config()\n",
    "algorithm_names = c.algorithm_names_generic_intra\n",
    "dataset_names = [\"illness\"]"
   ]
  },
  {
   "cell_type": "code",
   "execution_count": 123,
   "metadata": {},
   "outputs": [],
   "source": [
    "all_times = np.full((len(algorithm_names),len(c.dataset_names),len(c.decomp_intra_names), 2), -1.0)\n",
    "\n",
    "for i, algorithm in enumerate(algorithm_names):\n",
    "    folder = RESULTS_FOLDER + algorithm + \"/\"\n",
    "    for j, dataset in enumerate(dataset_names):\n",
    "        if not os.path.exists(folder + dataset + \".pkl\"):\n",
    "            continue\n",
    "        with open(folder + dataset + \".pkl\", \"rb\") as file:\n",
    "            errors = pickle.load(file)\n",
    "            for k, decomp in enumerate(c.decomp_intra_names):\n",
    "                all_times[i,j,k,0] = errors[decomp][\"mean_time\"]\n",
    "                all_times[i,j,k,1] = errors[decomp][\"std_time\"]\n",
    "# only one algo and dataset\n",
    "all_times = all_times[0,0,:,:]\n",
    "mean_times = all_times[:,0]\n",
    "std_times = all_times[:,1]"
   ]
  },
  {
   "cell_type": "code",
   "execution_count": 124,
   "metadata": {},
   "outputs": [],
   "source": [
    "n_components = [1,2,2,3,6]\n",
    "component_duration = np.mean([mean_times[1]-mean_times[0],mean_times[2]-mean_times[0]])"
   ]
  },
  {
   "cell_type": "code",
   "execution_count": null,
   "metadata": {},
   "outputs": [
    {
     "data": {
      "image/png": "[encoded data removed]",
      "text/plain": [
       "<Figure size 900x500 with 2 Axes>"
      ]
     },
     "metadata": {},
     "output_type": "display_data"
    }
   ],
   "source": [
    "import matplotlib.pyplot as plt\n",
    "from matplotlib.lines import Line2D\n",
    "\n",
    "decomp_names = np.array([format_decomp_name(decomp) for decomp in c.decomp_intra_names])\n",
    "\n",
    "outlier_threshold = 50\n",
    "non_outlier_indices = [i for i, val in enumerate(mean_times) if val <= outlier_threshold]\n",
    "outlier_indices = [i for i, val in enumerate(mean_times) if val > outlier_threshold]\n",
    "\n",
    "fig, (ax1, ax2) = plt.subplots(2, 1, figsize=(9,5), sharex=True, gridspec_kw={\"height_ratios\": [1, 3]})\n",
    "\n",
    "sort_order = np.argsort(mean_times)\n",
    "mean_times_sorted = mean_times[sort_order]\n",
    "std_times_sorted = std_times[sort_order]\n",
    "decomp_names = decomp_names[sort_order]\n",
    "\n",
    "# Top subplot: For the outlier\n",
    "bars_top = ax1.bar(decomp_names, mean_times_sorted, yerr=std_times_sorted, capsize=5)\n",
    "ax1.set_ylim(outlier_threshold+25, max(mean_times_sorted) + max(std_times_sorted)*10)\n",
    "ax1.spines[\"bottom\"].set_visible(False)\n",
    "ax1.tick_params(axis=\"x\", which=\"both\", bottom=False, top=False, labelbottom=False)\n",
    "\n",
    "\n",
    "# Bottom subplot: For the smaller values\n",
    "bars = ax2.bar(decomp_names, mean_times_sorted, yerr=std_times_sorted, capsize=5)\n",
    "ax2.set_ylim(0, outlier_threshold)\n",
    "ax2.spines['top'].set_visible(False)\n",
    "\n",
    "for bar, n_comp, std in zip(bars, n_components, std_times_sorted):\n",
    "    height = bar.get_height()\n",
    "\n",
    "    ax2.text(\n",
    "        bar.get_x() + bar.get_width() / 2,\n",
    "        height+std*1.2,\n",
    "        f\"{n_comp} Components\" if n_comp != 1 else f\"1 Component\",\n",
    "        ha=\"center\", va=\"bottom\",\n",
    "        fontsize=10\n",
    "    )\n",
    "\n",
    "\n",
    "ax1.text(\n",
    "    bars_top[-1].get_x() + bars_top[-1].get_width() / 2,\n",
    "    bars_top[-1].get_height()+std_times_sorted[-1]*1.2,\n",
    "    f\"6 Components\",\n",
    "    ha=\"center\", va=\"bottom\",\n",
    "    fontsize=10\n",
    ")\n",
    "\n",
    "# Add diagonal lines to show the break in the y-axis\n",
    "d = 0.015\n",
    "kwargs = dict(transform=ax1.transAxes, color=\"black\", clip_on=False)\n",
    "ax1.plot((-d, +d), (-d, +d), **kwargs)\n",
    "ax1.plot((1 - d, 1 + d), (-d, +d), **kwargs)\n",
    "kwargs = dict(transform=ax2.transAxes, color=\"black\", clip_on=False)\n",
    "ax2.plot((-d, +d), (1 - d, 1 + d), **kwargs)\n",
    "ax2.plot((1 - d, 1 + d), (1 - d, 1 + d), **kwargs)\n",
    "\n",
    "# Add labels and title\n",
    "ax2.set_xlabel(\"Decomposition Technique\", fontsize=\"x-large\")\n",
    "fig.text(s=\"Mean Time (s) across 10 trials\",x=0.01, y=0.55, fontdict={\"fontsize\": \"x-large\"}, rotation=90, va=\"center\")\n",
    "line = Line2D(\n",
    "    xdata=[0.065, 0.97],  # From left to right of the figure\n",
    "    ydata=[0.75, 0.75],  # 0.7 is in figure-relative coordinates\n",
    "    transform=fig.transFigure,  # Use figure-relative coordinates\n",
    "    color=(\"black\", 0.5),\n",
    "    linestyle=\"--\",\n",
    "    linewidth=1\n",
    ")\n",
    "fig.add_artist(line)\n",
    "plt.tight_layout()\n",
    "fig.savefig(\"plots/runtime.pdf\", bbox_inches=\"tight\")"
   ]
  }
 ],
 "metadata": {
  "kernelspec": {
   "display_name": "Python 3",
   "language": "python",
   "name": "python3"
  },
  "language_info": {
   "codemirror_mode": {
    "name": "ipython",
    "version": 3
   },
   "file_extension": ".py",
   "mimetype": "text/x-python",
   "name": "python",
   "nbconvert_exporter": "python",
   "pygments_lexer": "ipython3",
   "version": "3.9.6"
  }
 },
 "nbformat": 4,
 "nbformat_minor": 2
}
